{
 "cells": [
  {
   "cell_type": "markdown",
   "id": "7cbeb91f-e7b7-481a-aa86-73aa0e228359",
   "metadata": {},
   "source": [
    "#### Mann – Whitney U Testi\n",
    "- Mann-Whitney U testi, iki bağımsız örneklem arasındaki medyan farklarını test etmek için kullanılan parametrik olmayan bir testtir. Bu test, verilerin normal dağılım göstermediği durumlarda veya örneklem boyutlarının küçük olduğu durumlarda kullanılabilir. Mann-Whitney U testi, iki grubun dağılımlarının aynı olup olmadığını belirler."
   ]
  },
  {
   "cell_type": "markdown",
   "id": "e8bf4749-d93d-4e40-93aa-758d51f2c3cd",
   "metadata": {},
   "source": [
    "**Soru:** Erkek ve kadın bireyler arasında serum kolesterol seviyeleri açısından anlamlı bir fark olup olmadığını inceleyin.\n",
    "- Null Hipotez (H₀): Erkek ve kadın bireyler arasında serum kolesterol seviyeleri açısından anlamlı bir fark yoktur.\n",
    "- Alternatif Hipotez (H₁): Erkek ve kadın bireyler arasında serum kolesterol seviyeleri açısından anlamlı bir fark vardır."
   ]
  },
  {
   "cell_type": "code",
   "execution_count": 22,
   "id": "86e26d42-3123-4c9c-ab0f-b1e992db1181",
   "metadata": {},
   "outputs": [
    {
     "data": {
      "text/html": [
       "<div>\n",
       "<style scoped>\n",
       "    .dataframe tbody tr th:only-of-type {\n",
       "        vertical-align: middle;\n",
       "    }\n",
       "\n",
       "    .dataframe tbody tr th {\n",
       "        vertical-align: top;\n",
       "    }\n",
       "\n",
       "    .dataframe thead th {\n",
       "        text-align: right;\n",
       "    }\n",
       "</style>\n",
       "<table border=\"1\" class=\"dataframe\">\n",
       "  <thead>\n",
       "    <tr style=\"text-align: right;\">\n",
       "      <th></th>\n",
       "      <th>id</th>\n",
       "      <th>age</th>\n",
       "      <th>sex</th>\n",
       "      <th>dataset</th>\n",
       "      <th>cp</th>\n",
       "      <th>trestbps</th>\n",
       "      <th>chol</th>\n",
       "      <th>fbs</th>\n",
       "      <th>restecg</th>\n",
       "      <th>thalch</th>\n",
       "      <th>exang</th>\n",
       "      <th>oldpeak</th>\n",
       "      <th>slope</th>\n",
       "      <th>ca</th>\n",
       "      <th>thal</th>\n",
       "      <th>num</th>\n",
       "    </tr>\n",
       "  </thead>\n",
       "  <tbody>\n",
       "    <tr>\n",
       "      <th>0</th>\n",
       "      <td>1</td>\n",
       "      <td>63</td>\n",
       "      <td>Male</td>\n",
       "      <td>Cleveland</td>\n",
       "      <td>typical angina</td>\n",
       "      <td>145.0</td>\n",
       "      <td>233.0</td>\n",
       "      <td>True</td>\n",
       "      <td>lv hypertrophy</td>\n",
       "      <td>150.0</td>\n",
       "      <td>False</td>\n",
       "      <td>2.3</td>\n",
       "      <td>downsloping</td>\n",
       "      <td>0.0</td>\n",
       "      <td>fixed defect</td>\n",
       "      <td>0</td>\n",
       "    </tr>\n",
       "    <tr>\n",
       "      <th>1</th>\n",
       "      <td>2</td>\n",
       "      <td>67</td>\n",
       "      <td>Male</td>\n",
       "      <td>Cleveland</td>\n",
       "      <td>asymptomatic</td>\n",
       "      <td>160.0</td>\n",
       "      <td>286.0</td>\n",
       "      <td>False</td>\n",
       "      <td>lv hypertrophy</td>\n",
       "      <td>108.0</td>\n",
       "      <td>True</td>\n",
       "      <td>1.5</td>\n",
       "      <td>flat</td>\n",
       "      <td>3.0</td>\n",
       "      <td>normal</td>\n",
       "      <td>2</td>\n",
       "    </tr>\n",
       "    <tr>\n",
       "      <th>2</th>\n",
       "      <td>3</td>\n",
       "      <td>67</td>\n",
       "      <td>Male</td>\n",
       "      <td>Cleveland</td>\n",
       "      <td>asymptomatic</td>\n",
       "      <td>120.0</td>\n",
       "      <td>229.0</td>\n",
       "      <td>False</td>\n",
       "      <td>lv hypertrophy</td>\n",
       "      <td>129.0</td>\n",
       "      <td>True</td>\n",
       "      <td>2.6</td>\n",
       "      <td>flat</td>\n",
       "      <td>2.0</td>\n",
       "      <td>reversable defect</td>\n",
       "      <td>1</td>\n",
       "    </tr>\n",
       "    <tr>\n",
       "      <th>3</th>\n",
       "      <td>4</td>\n",
       "      <td>37</td>\n",
       "      <td>Male</td>\n",
       "      <td>Cleveland</td>\n",
       "      <td>non-anginal</td>\n",
       "      <td>130.0</td>\n",
       "      <td>250.0</td>\n",
       "      <td>False</td>\n",
       "      <td>normal</td>\n",
       "      <td>187.0</td>\n",
       "      <td>False</td>\n",
       "      <td>3.5</td>\n",
       "      <td>downsloping</td>\n",
       "      <td>0.0</td>\n",
       "      <td>normal</td>\n",
       "      <td>0</td>\n",
       "    </tr>\n",
       "    <tr>\n",
       "      <th>4</th>\n",
       "      <td>5</td>\n",
       "      <td>41</td>\n",
       "      <td>Female</td>\n",
       "      <td>Cleveland</td>\n",
       "      <td>atypical angina</td>\n",
       "      <td>130.0</td>\n",
       "      <td>204.0</td>\n",
       "      <td>False</td>\n",
       "      <td>lv hypertrophy</td>\n",
       "      <td>172.0</td>\n",
       "      <td>False</td>\n",
       "      <td>1.4</td>\n",
       "      <td>upsloping</td>\n",
       "      <td>0.0</td>\n",
       "      <td>normal</td>\n",
       "      <td>0</td>\n",
       "    </tr>\n",
       "  </tbody>\n",
       "</table>\n",
       "</div>"
      ],
      "text/plain": [
       "   id  age     sex    dataset               cp  trestbps   chol    fbs  \\\n",
       "0   1   63    Male  Cleveland   typical angina     145.0  233.0   True   \n",
       "1   2   67    Male  Cleveland     asymptomatic     160.0  286.0  False   \n",
       "2   3   67    Male  Cleveland     asymptomatic     120.0  229.0  False   \n",
       "3   4   37    Male  Cleveland      non-anginal     130.0  250.0  False   \n",
       "4   5   41  Female  Cleveland  atypical angina     130.0  204.0  False   \n",
       "\n",
       "          restecg  thalch  exang  oldpeak        slope   ca  \\\n",
       "0  lv hypertrophy   150.0  False      2.3  downsloping  0.0   \n",
       "1  lv hypertrophy   108.0   True      1.5         flat  3.0   \n",
       "2  lv hypertrophy   129.0   True      2.6         flat  2.0   \n",
       "3          normal   187.0  False      3.5  downsloping  0.0   \n",
       "4  lv hypertrophy   172.0  False      1.4    upsloping  0.0   \n",
       "\n",
       "                thal  num  \n",
       "0       fixed defect    0  \n",
       "1             normal    2  \n",
       "2  reversable defect    1  \n",
       "3             normal    0  \n",
       "4             normal    0  "
      ]
     },
     "execution_count": 22,
     "metadata": {},
     "output_type": "execute_result"
    }
   ],
   "source": [
    "# Veri setini yükleme (Kaggle üzerinden indirilen heart disease veri seti)\n",
    "import pandas as pd\n",
    "from scipy.stats import mannwhitneyu\n",
    "df = pd.read_csv('heart_disease_uci.csv')\n",
    "df=df.dropna()\n",
    "df.head()"
   ]
  },
  {
   "cell_type": "code",
   "execution_count": 26,
   "id": "5dbc1190-e803-4b33-b181-baeac0bb1d6e",
   "metadata": {},
   "outputs": [
    {
     "data": {
      "text/plain": [
       "id          0\n",
       "age         0\n",
       "sex         0\n",
       "dataset     0\n",
       "cp          0\n",
       "trestbps    0\n",
       "chol        0\n",
       "fbs         0\n",
       "restecg     0\n",
       "thalch      0\n",
       "exang       0\n",
       "oldpeak     0\n",
       "slope       0\n",
       "ca          0\n",
       "thal        0\n",
       "num         0\n",
       "dtype: int64"
      ]
     },
     "execution_count": 26,
     "metadata": {},
     "output_type": "execute_result"
    }
   ],
   "source": [
    "df.isnull().sum()"
   ]
  },
  {
   "cell_type": "code",
   "execution_count": 16,
   "id": "3157f26d-a87b-40b8-bd22-34a06b9b30a3",
   "metadata": {},
   "outputs": [
    {
     "data": {
      "text/plain": [
       "5"
      ]
     },
     "execution_count": 16,
     "metadata": {},
     "output_type": "execute_result"
    }
   ],
   "source": [
    "df[\"num\"].nunique()"
   ]
  },
  {
   "cell_type": "code",
   "execution_count": 42,
   "id": "1ee0391b-7187-45a2-99ab-854d3abeb2f6",
   "metadata": {},
   "outputs": [
    {
     "name": "stdout",
     "output_type": "stream",
     "text": [
      "Mann-Whitney U Testi Statistiği: 7852.0\n",
      "P-Değeri: 0.006728094084218456\n"
     ]
    }
   ],
   "source": [
    "# Kalp hastalığı olan ve olmayan bireylerin yaş gruplarını ayırma\n",
    "male_chol = df[df['sex'] == 'Male']['chol']\n",
    "female_chol = df[df['sex'] == 'Female']['chol']\n",
    "\n"
   ]
  },
  {
   "cell_type": "code",
   "execution_count": 46,
   "id": "e36df6be-8b59-4d50-b9d5-9ecca5618f85",
   "metadata": {},
   "outputs": [
    {
     "name": "stdout",
     "output_type": "stream",
     "text": [
      "Mann-Whitney U Testi Statistiği: 7852.0\n",
      "P-Değeri: 0.006728094084218456\n",
      "Null Hipotez reddedilir; Erkek ve kadın bireyler arasında serum kolesterol seviyeleri açısından anlamlı bir fark vardır.\n"
     ]
    }
   ],
   "source": [
    "# Mann-Whitney U testi uygulama\n",
    "stat, p_value = mannwhitneyu(male_chol, female_chol)\n",
    "print('Mann-Whitney U Testi Statistiği:', stat)\n",
    "print('P-Değeri:', p_value)\n",
    "alpha = 0.05\n",
    "if p_value < alpha:\n",
    "    print(\"Null Hipotez reddedilir; Erkek ve kadın bireyler arasında serum kolesterol seviyeleri açısından anlamlı bir fark vardır.\")\n",
    "else:\n",
    "    print(\"Null Hipotez reddedilemez; Erkek ve kadın bireyler arasında serum kolesterol seviyeleri açısından anlamlı bir fark yoktur.\")"
   ]
  },
  {
   "cell_type": "markdown",
   "id": "b147eaaf-99b0-4cac-a979-a178e44315ff",
   "metadata": {},
   "source": [
    "#### Wilcoxon Signed Rank"
   ]
  },
  {
   "cell_type": "markdown",
   "id": "2ba5edad-df41-4986-861c-78a711a60f9e",
   "metadata": {},
   "source": [
    "**Soru:** Sürpriz bir sınav yapılmış ve 6 öğrencinin notları aşağıdaki gibi verilmiştir.Bir aylık uygulama süresi verildikten sonra aynı sınav tekrar yapılmış ve aşağıdaki puanlar alınmıştır.Parametrik olmayan bir test kullanarak elde edilen notlarda bir fark olup olmadığını belirleyin. Anlamlılık düzeyi 0,05'tir."
   ]
  },
  {
   "cell_type": "code",
   "execution_count": 48,
   "id": "96994145-d436-47cf-8b21-65b65f4bc780",
   "metadata": {},
   "outputs": [],
   "source": [
    "import numpy as np\n",
    "from scipy.stats import wilcoxon"
   ]
  },
  {
   "cell_type": "code",
   "execution_count": 50,
   "id": "2bf052ff-43e6-4cf3-bca5-38aa93c80569",
   "metadata": {},
   "outputs": [],
   "source": [
    "test_1 = np.array([8, 6, 4, 2, 5, 6])\n",
    "test_2 = np.array([6, 8, 8, 9, 4, 10])"
   ]
  },
  {
   "cell_type": "code",
   "execution_count": 54,
   "id": "dbd49bcc-86b1-4f8a-bca4-ee51755c093f",
   "metadata": {},
   "outputs": [
    {
     "name": "stdout",
     "output_type": "stream",
     "text": [
      "Test İstatistiği (W2): 3.5\n",
      "p-değeri: 0.21875\n",
      "H0 hipotezini reddedemiyoruz, iki test arasındaki fark istatistiksel olarak anlamlı değildir.\n"
     ]
    }
   ],
   "source": [
    "# İki test arasındaki farkları hesaplayalım\n",
    "farklar = test_2 - test_1\n",
    "# Wilcoxon Signed Rank Testini uygulayalım\n",
    "statistic, p_value = wilcoxon(farklar)\n",
    "print(f\"Test İstatistiği (W2): {statistic}\")\n",
    "print(f\"p-değeri: {p_value}\")\n",
    "alpha = 0.05\n",
    "if p_value > alpha:\n",
    "    print(\"H0 hipotezini reddedemiyoruz, iki test arasındaki fark istatistiksel olarak anlamlı değildir.\")\n",
    "else:\n",
    "    print(\"H0 hipotezini reddediyoruz, iki test arasındaki fark istatistiksel olarak anlamlıdır.\")"
   ]
  },
  {
   "cell_type": "markdown",
   "id": "511b2ab2-05e4-4f6c-a7a7-5f37615f57af",
   "metadata": {},
   "source": [
    "- W2 > 2 olduğundan, sıfır hipotezi reddedilemez ve iki testin puanları arasında fark olmadığı sonucuna varılabilir."
   ]
  },
  {
   "cell_type": "markdown",
   "id": "c660c0b4-543d-4f78-b97d-6cf99ce0e004",
   "metadata": {},
   "source": [
    "#### 3)Friedman Testi"
   ]
  },
  {
   "cell_type": "code",
   "execution_count": 58,
   "id": "89c7b941-f30b-4903-b71e-3100f870186e",
   "metadata": {},
   "outputs": [],
   "source": [
    "import numpy as np\n",
    "from scipy.stats import friedmanchisquare\n",
    "import pandas as pd"
   ]
  },
  {
   "cell_type": "markdown",
   "id": "7e9f1b4b-b8e0-46fd-8bd7-7d9d54e9ea34",
   "metadata": {},
   "source": [
    "**Soru :** 7 rastgele kişiye 3 farklı ilaç verildi ve her kişi için ilaçlara karşılık gelen tepki süresi not edildi. Tüm 3 ilacın aynı olasılık dağılımına sahip olduğu iddiasını %5 önem düzeyinde test edin."
   ]
  },
  {
   "cell_type": "markdown",
   "id": "5ea3f677-1860-497e-b57d-96c674088233",
   "metadata": {},
   "source": [
    "- **H0 :** Her üç ilacın da olasılık dağılımı aynıdır. M A = M B = M C \n",
    "- **H1 :** Bunlardan en az ikisi birbirinden farklıdır."
   ]
  },
  {
   "cell_type": "code",
   "execution_count": 60,
   "id": "93ee73a0-8eb7-4957-ab6f-f8b1fadf2ada",
   "metadata": {},
   "outputs": [],
   "source": [
    "Alfa = 0.05"
   ]
  },
  {
   "cell_type": "code",
   "execution_count": 62,
   "id": "8ca05f6a-581a-4071-afd9-850c57ab7b30",
   "metadata": {},
   "outputs": [],
   "source": [
    "y = np.array([[1.24, 1.50, 1.62],\n",
    "              [1.71, 1.85, 2.05],\n",
    "              [1.37, 2.12, 1.68],\n",
    "              [2.53, 1.87, 2.62],\n",
    "              [1.23, 1.34, 1.51],\n",
    "              [1.94, 2.33, 2.86],\n",
    "              [1.72, 1.43, 2.86]])"
   ]
  },
  {
   "cell_type": "code",
   "execution_count": 68,
   "id": "d80dd59c-988b-474c-b9ce-914546c70577",
   "metadata": {},
   "outputs": [
    {
     "name": "stdout",
     "output_type": "stream",
     "text": [
      "Statistics : 8.857142857142847\n",
      "P value : 0.011931522535756207\n",
      "Reject the null hypothesis (p-value: 0.012 ≤ α: 0.05)\n"
     ]
    }
   ],
   "source": [
    "# Perform the Friedman test\n",
    "stat,p = friedmanchisquare(y[:, 0], y[:, 1], y[:, 2])\n",
    "\n",
    "# Display the result\n",
    "print(f'Statistics : {stat}')\n",
    "print(f'P value : {p}')\n",
    "# Compare p-value with alpha\n",
    "if p <= alpha:\n",
    "    print(f\"Reject the null hypothesis (p-value: {p:.3f} ≤ α: {alpha})\")\n",
    "else:\n",
    "    print(f\"Fail to reject the null hypothesis (p-value: {p:.3f} > α: {alpha})\")"
   ]
  },
  {
   "cell_type": "code",
   "execution_count": 36,
   "id": "24da305e-16b6-456c-98c2-9e2bfad21029",
   "metadata": {},
   "outputs": [],
   "source": [
    "# p-değerinin anlamlılık düzeyinden (%5) küçük olması olasılık dağılımında anlamlı farklılıklar olduğu sonucuna varılabilir."
   ]
  },
  {
   "cell_type": "markdown",
   "id": "4cffa7bf-ad9e-4c6c-a4b1-8a1f96af2e37",
   "metadata": {},
   "source": [
    "#### Kruskal-Wallis Testi"
   ]
  },
  {
   "cell_type": "markdown",
   "id": "691fc4dd-1712-4cca-85a2-052141153e39",
   "metadata": {},
   "source": [
    "**Soru:** Araştırma ve Geliştirme ekibinin üç farklı motor yağı uygulamasının otomobillerin kilometre performansında farka yol açıp açmadığını belirlemek istiyor. Ekip aynı markanın 15 otomobilini seçmeye ve bunları üçlü gruplara ayırmaya karar verdi (her grupta 5 otomobil). Şimdi her grup tam olarak bir motor yağıyla katkılanıyor (üç motor yağı da kullanılıyor). Daha sonra aynı pistte 20 kilometre yol kat etmelerine izin veriliyor ve yolculukları sona erdiğinde kilometre not ediliyor."
   ]
  },
  {
   "cell_type": "code",
   "execution_count": 70,
   "id": "bd60cb82-ed6a-4265-99fd-4cea7dbfe70a",
   "metadata": {},
   "outputs": [],
   "source": [
    "data_group1 = [7, 9, 12, 15, 21]\n",
    "data_group2 = [5, 8, 14, 13, 25]\n",
    "data_group3 = [6, 8, 8, 9, 5]\n",
    "alpha=0.05"
   ]
  },
  {
   "cell_type": "code",
   "execution_count": 72,
   "id": "be6fe7c3-b2a5-41a3-9331-779f11b37eca",
   "metadata": {},
   "outputs": [
    {
     "name": "stdout",
     "output_type": "stream",
     "text": [
      "KruskalResult(statistic=3.492418772563175, pvalue=0.17443390338074047)\n",
      "Fail to reject the null hypothesis (p-value: 0.174 > α: 0.05)\n"
     ]
    }
   ],
   "source": [
    "# Import libraries\n",
    "from scipy import stats\n",
    "# Conduct the Kruskal-Wallis Test \n",
    "result = stats.kruskal(data_group1, data_group2, data_group3)\n",
    "print(result)\n",
    "if result.pvalue <= alpha:\n",
    "    print(f\"Reject the null hypothesis (p-value: {result.pvalue:.3f} ≤ α: {alpha})\")\n",
    "else:\n",
    "    print(f\"Fail to reject the null hypothesis (p-value: {result.pvalue:.3f} > α: {alpha})\")\n"
   ]
  },
  {
   "cell_type": "code",
   "execution_count": null,
   "id": "8c76a584-75c9-48c5-b19b-76bf433ec866",
   "metadata": {},
   "outputs": [],
   "source": [
    "#Bu örnekte, test istatistiği 3,492'ye eşit çıkıyor ve buna karşılık gelen p değeri 0,174. P değeri 0,05'ten az olmadığı için, arabaların ortalama kilometre performansının üç grup için de aynı olduğu şeklindeki sıfır hipotezini reddedemeyiz."
   ]
  }
 ],
 "metadata": {
  "kernelspec": {
   "display_name": "Python 3 (ipykernel)",
   "language": "python",
   "name": "python3"
  },
  "language_info": {
   "codemirror_mode": {
    "name": "ipython",
    "version": 3
   },
   "file_extension": ".py",
   "mimetype": "text/x-python",
   "name": "python",
   "nbconvert_exporter": "python",
   "pygments_lexer": "ipython3",
   "version": "3.12.4"
  }
 },
 "nbformat": 4,
 "nbformat_minor": 5
}
